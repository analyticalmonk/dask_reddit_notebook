{
 "cells": [
  {
   "cell_type": "code",
   "execution_count": 2,
   "metadata": {
    "collapsed": false
   },
   "outputs": [
    {
     "data": {
      "text/plain": [
       "{'archived': False,\n",
       " 'author': 'YoungModern',\n",
       " 'author_flair_css_class': None,\n",
       " 'author_flair_text': None,\n",
       " 'body': 'Most of us have some family members like this. *Most* of my family is like this. ',\n",
       " 'controversiality': 0,\n",
       " 'created_utc': '1420070400',\n",
       " 'distinguished': None,\n",
       " 'downs': 0,\n",
       " 'edited': False,\n",
       " 'gilded': 0,\n",
       " 'id': 'cnas8zv',\n",
       " 'link_id': 't3_2qyr1a',\n",
       " 'name': 't1_cnas8zv',\n",
       " 'parent_id': 't3_2qyr1a',\n",
       " 'retrieved_on': 1425124282,\n",
       " 'score': 14,\n",
       " 'score_hidden': False,\n",
       " 'subreddit': 'exmormon',\n",
       " 'subreddit_id': 't5_2r0gj',\n",
       " 'ups': 14}"
      ]
     },
     "execution_count": 2,
     "metadata": {},
     "output_type": "execute_result"
    }
   ],
   "source": [
    "from __future__ import division, print_function\n",
    "from bz2 import BZ2File\n",
    "import ujson\n",
    "\n",
    "with BZ2File('./RC_2015-01.bz2') as f:\n",
    "    line = f.readline()\n",
    "ujson.loads(line)"
   ]
  },
  {
   "cell_type": "code",
   "execution_count": 3,
   "metadata": {
    "collapsed": true
   },
   "outputs": [],
   "source": [
    "from pandas import Timestamp, NaT, DataFrame\n",
    "from toolz import dissoc\n",
    "\n",
    "\n",
    "def to_json(line):\n",
    "    \"\"\"Convert a line of json into a cleaned up dict.\"\"\"\n",
    "    blob = ujson.loads(line)\n",
    "    \n",
    "    # Convert timestamps into Timestamp objects\n",
    "    date = blob['created_utc']\n",
    "    blob['created_utc'] = Timestamp.utcfromtimestamp(int(date))\n",
    "    edited = blob['edited']\n",
    "    blob['edited'] = Timestamp.utcfromtimestamp(int(edited)) if edited else NaT\n",
    "    \n",
    "    # Convert deleted posts into `None`s (missing text data)\n",
    "    if blob['author'] == '[deleted]':\n",
    "        blob['author'] = None\n",
    "    if blob['body'] == '[deleted]':\n",
    "        blob['body'] = None\n",
    "        \n",
    "    # Remove 'id', and 'subreddit_id' as they're redundant\n",
    "    # Remove 'retrieved_on' as it's irrelevant\n",
    "    return dissoc(blob, 'id', 'subreddit_id', 'retrieved_on')\n",
    "\n",
    "\n",
    "columns = ['archived', 'author', 'author_flair_css_class', 'author_flair_text',\n",
    "           'body', 'controversiality', 'created_utc', 'distinguished', 'downs',\n",
    "           'edited', 'gilded', 'link_id', 'name', 'parent_id',\n",
    "           'removal_reason', 'score', 'score_hidden', 'subreddit', 'ups']\n",
    "\n",
    "\n",
    "def to_df(batch):\n",
    "    \"\"\"Convert a list of json strings into a dataframe\"\"\"\n",
    "    blobs = map(to_json, batch)\n",
    "    df = DataFrame.from_records(blobs, columns=columns)\n",
    "    return df.set_index('created_utc')"
   ]
  },
  {
   "cell_type": "code",
   "execution_count": 5,
   "metadata": {
    "collapsed": false
   },
   "outputs": [
    {
     "ename": "ValueError",
     "evalue": "Opening a castra with a template, yet this castra\nalready exists.  Filename: reddit_data.castra",
     "output_type": "error",
     "traceback": [
      "\u001b[0;31m---------------------------------------------------------------------------\u001b[0m",
      "\u001b[0;31mValueError\u001b[0m                                Traceback (most recent call last)",
      "\u001b[0;32m<ipython-input-5-ca480a409740>\u001b[0m in \u001b[0;36m<module>\u001b[0;34m()\u001b[0m\n\u001b[1;32m      7\u001b[0m     \u001b[0mbatches\u001b[0m \u001b[0;34m=\u001b[0m \u001b[0mpartition_all\u001b[0m\u001b[0;34m(\u001b[0m\u001b[0;36m200000\u001b[0m\u001b[0;34m,\u001b[0m \u001b[0mf\u001b[0m\u001b[0;34m)\u001b[0m\u001b[0;34m\u001b[0m\u001b[0m\n\u001b[1;32m      8\u001b[0m     \u001b[0mdf\u001b[0m\u001b[0;34m,\u001b[0m \u001b[0mframes\u001b[0m \u001b[0;34m=\u001b[0m \u001b[0mpeek\u001b[0m\u001b[0;34m(\u001b[0m\u001b[0mmap\u001b[0m\u001b[0;34m(\u001b[0m\u001b[0mto_df\u001b[0m\u001b[0;34m,\u001b[0m \u001b[0mbatches\u001b[0m\u001b[0;34m)\u001b[0m\u001b[0;34m)\u001b[0m\u001b[0;34m\u001b[0m\u001b[0m\n\u001b[0;32m----> 9\u001b[0;31m     \u001b[0mcastra\u001b[0m \u001b[0;34m=\u001b[0m \u001b[0mCastra\u001b[0m\u001b[0;34m(\u001b[0m\u001b[0;34m'reddit_data.castra'\u001b[0m\u001b[0;34m,\u001b[0m \u001b[0mtemplate\u001b[0m\u001b[0;34m=\u001b[0m\u001b[0mdf\u001b[0m\u001b[0;34m,\u001b[0m \u001b[0mcategories\u001b[0m\u001b[0;34m=\u001b[0m\u001b[0mcategories\u001b[0m\u001b[0;34m)\u001b[0m\u001b[0;34m\u001b[0m\u001b[0m\n\u001b[0m\u001b[1;32m     10\u001b[0m     \u001b[0mcastra\u001b[0m\u001b[0;34m.\u001b[0m\u001b[0mextend_sequence\u001b[0m\u001b[0;34m(\u001b[0m\u001b[0mframes\u001b[0m\u001b[0;34m,\u001b[0m \u001b[0mfreq\u001b[0m\u001b[0;34m=\u001b[0m\u001b[0;34m'3h'\u001b[0m\u001b[0;34m)\u001b[0m\u001b[0;34m\u001b[0m\u001b[0m\n",
      "\u001b[0;32m/home/redcarpet/miniconda2/envs/blaze_explore_py34/lib/python3.4/site-packages/castra/core.py\u001b[0m in \u001b[0;36m__init__\u001b[0;34m(self, path, template, categories, readonly)\u001b[0m\n\u001b[1;32m     79\u001b[0m                 raise ValueError(\n\u001b[1;32m     80\u001b[0m                     \u001b[0;34m\"Opening a castra with a template, yet this castra\\n\"\u001b[0m\u001b[0;34m\u001b[0m\u001b[0m\n\u001b[0;32m---> 81\u001b[0;31m                     \"already exists.  Filename: %s\" % self.path)\n\u001b[0m\u001b[1;32m     82\u001b[0m             \u001b[0mself\u001b[0m\u001b[0;34m.\u001b[0m\u001b[0mload_meta\u001b[0m\u001b[0;34m(\u001b[0m\u001b[0;34m)\u001b[0m\u001b[0;34m\u001b[0m\u001b[0m\n\u001b[1;32m     83\u001b[0m             \u001b[0mself\u001b[0m\u001b[0;34m.\u001b[0m\u001b[0mload_partitions\u001b[0m\u001b[0;34m(\u001b[0m\u001b[0;34m)\u001b[0m\u001b[0;34m\u001b[0m\u001b[0m\n",
      "\u001b[0;31mValueError\u001b[0m: Opening a castra with a template, yet this castra\nalready exists.  Filename: reddit_data.castra"
     ]
    }
   ],
   "source": [
    "from castra import Castra\n",
    "from toolz import peek, partition_all\n",
    "\n",
    "categories = ['distinguished', 'subreddit', 'removal_reason']\n",
    "\n",
    "with BZ2File('RC_2015-01.bz2') as f:\n",
    "    batches = partition_all(200000, f)\n",
    "    df, frames = peek(map(to_df, batches))\n",
    "    castra = Castra('reddit_data.castra', template=df, categories=categories)\n",
    "    castra.extend_sequence(frames, freq='3h')"
   ]
  },
  {
   "cell_type": "code",
   "execution_count": 6,
   "metadata": {
    "collapsed": false
   },
   "outputs": [
    {
     "name": "stdout",
     "output_type": "stream",
     "text": [
      "[########################################] | 100% Completed |  0.6s\n"
     ]
    },
    {
     "data": {
      "text/html": [
       "<div>\n",
       "<table border=\"1\" class=\"dataframe\">\n",
       "  <thead>\n",
       "    <tr style=\"text-align: right;\">\n",
       "      <th></th>\n",
       "      <th>archived</th>\n",
       "      <th>author</th>\n",
       "      <th>author_flair_css_class</th>\n",
       "      <th>author_flair_text</th>\n",
       "      <th>body</th>\n",
       "      <th>controversiality</th>\n",
       "      <th>distinguished</th>\n",
       "      <th>downs</th>\n",
       "      <th>edited</th>\n",
       "      <th>gilded</th>\n",
       "      <th>link_id</th>\n",
       "      <th>name</th>\n",
       "      <th>parent_id</th>\n",
       "      <th>removal_reason</th>\n",
       "      <th>score</th>\n",
       "      <th>score_hidden</th>\n",
       "      <th>subreddit</th>\n",
       "      <th>ups</th>\n",
       "    </tr>\n",
       "    <tr>\n",
       "      <th>created_utc</th>\n",
       "      <th></th>\n",
       "      <th></th>\n",
       "      <th></th>\n",
       "      <th></th>\n",
       "      <th></th>\n",
       "      <th></th>\n",
       "      <th></th>\n",
       "      <th></th>\n",
       "      <th></th>\n",
       "      <th></th>\n",
       "      <th></th>\n",
       "      <th></th>\n",
       "      <th></th>\n",
       "      <th></th>\n",
       "      <th></th>\n",
       "      <th></th>\n",
       "      <th></th>\n",
       "      <th></th>\n",
       "    </tr>\n",
       "  </thead>\n",
       "  <tbody>\n",
       "    <tr>\n",
       "      <th>2015-01-01</th>\n",
       "      <td>False</td>\n",
       "      <td>YoungModern</td>\n",
       "      <td>None</td>\n",
       "      <td>None</td>\n",
       "      <td>Most of us have some family members like this....</td>\n",
       "      <td>0.0</td>\n",
       "      <td>None</td>\n",
       "      <td>0.0</td>\n",
       "      <td>NaT</td>\n",
       "      <td>0.0</td>\n",
       "      <td>t3_2qyr1a</td>\n",
       "      <td>t1_cnas8zv</td>\n",
       "      <td>t3_2qyr1a</td>\n",
       "      <td>NaN</td>\n",
       "      <td>14.0</td>\n",
       "      <td>False</td>\n",
       "      <td>exmormon</td>\n",
       "      <td>14.0</td>\n",
       "    </tr>\n",
       "    <tr>\n",
       "      <th>2015-01-01</th>\n",
       "      <td>False</td>\n",
       "      <td>RedCoatsForever</td>\n",
       "      <td>on</td>\n",
       "      <td>Ontario</td>\n",
       "      <td>But Mill's career was way better. Bentham is l...</td>\n",
       "      <td>0.0</td>\n",
       "      <td>None</td>\n",
       "      <td>0.0</td>\n",
       "      <td>NaT</td>\n",
       "      <td>0.0</td>\n",
       "      <td>t3_2qv6c6</td>\n",
       "      <td>t1_cnas8zw</td>\n",
       "      <td>t1_cnas2b6</td>\n",
       "      <td>NaN</td>\n",
       "      <td>3.0</td>\n",
       "      <td>False</td>\n",
       "      <td>CanadaPolitics</td>\n",
       "      <td>3.0</td>\n",
       "    </tr>\n",
       "    <tr>\n",
       "      <th>2015-01-01</th>\n",
       "      <td>False</td>\n",
       "      <td>vhisic</td>\n",
       "      <td>None</td>\n",
       "      <td>None</td>\n",
       "      <td>Mine uses a strait razor, and as much as i lov...</td>\n",
       "      <td>0.0</td>\n",
       "      <td>None</td>\n",
       "      <td>0.0</td>\n",
       "      <td>NaT</td>\n",
       "      <td>0.0</td>\n",
       "      <td>t3_2qxefp</td>\n",
       "      <td>t1_cnas8zx</td>\n",
       "      <td>t3_2qxefp</td>\n",
       "      <td>NaN</td>\n",
       "      <td>1.0</td>\n",
       "      <td>False</td>\n",
       "      <td>AdviceAnimals</td>\n",
       "      <td>1.0</td>\n",
       "    </tr>\n",
       "  </tbody>\n",
       "</table>\n",
       "</div>"
      ],
      "text/plain": [
       "            archived           author author_flair_css_class  \\\n",
       "created_utc                                                    \n",
       "2015-01-01     False      YoungModern                   None   \n",
       "2015-01-01     False  RedCoatsForever                     on   \n",
       "2015-01-01     False           vhisic                   None   \n",
       "\n",
       "            author_flair_text  \\\n",
       "created_utc                     \n",
       "2015-01-01               None   \n",
       "2015-01-01            Ontario   \n",
       "2015-01-01               None   \n",
       "\n",
       "                                                          body  \\\n",
       "created_utc                                                      \n",
       "2015-01-01   Most of us have some family members like this....   \n",
       "2015-01-01   But Mill's career was way better. Bentham is l...   \n",
       "2015-01-01   Mine uses a strait razor, and as much as i lov...   \n",
       "\n",
       "             controversiality distinguished  downs edited  gilded    link_id  \\\n",
       "created_utc                                                                    \n",
       "2015-01-01                0.0          None    0.0    NaT     0.0  t3_2qyr1a   \n",
       "2015-01-01                0.0          None    0.0    NaT     0.0  t3_2qv6c6   \n",
       "2015-01-01                0.0          None    0.0    NaT     0.0  t3_2qxefp   \n",
       "\n",
       "                   name   parent_id removal_reason  score score_hidden  \\\n",
       "created_utc                                                              \n",
       "2015-01-01   t1_cnas8zv   t3_2qyr1a            NaN   14.0        False   \n",
       "2015-01-01   t1_cnas8zw  t1_cnas2b6            NaN    3.0        False   \n",
       "2015-01-01   t1_cnas8zx   t3_2qxefp            NaN    1.0        False   \n",
       "\n",
       "                  subreddit   ups  \n",
       "created_utc                        \n",
       "2015-01-01         exmormon  14.0  \n",
       "2015-01-01   CanadaPolitics   3.0  \n",
       "2015-01-01    AdviceAnimals   1.0  "
      ]
     },
     "execution_count": 6,
     "metadata": {},
     "output_type": "execute_result"
    }
   ],
   "source": [
    "import dask.dataframe as dd\n",
    "from dask.diagnostics import ProgressBar\n",
    "\n",
    "# Start a progress bar for all computations\n",
    "pbar = ProgressBar()\n",
    "pbar.register()\n",
    "\n",
    "# Load data into a dask dataframe:\n",
    "df = dd.from_castra('reddit_data.castra/')\n",
    "df.head(3)"
   ]
  },
  {
   "cell_type": "code",
   "execution_count": 7,
   "metadata": {
    "collapsed": false
   },
   "outputs": [
    {
     "name": "stdout",
     "output_type": "stream",
     "text": [
      "[########################################] | 100% Completed |  1.7s\n"
     ]
    },
    {
     "data": {
      "text/plain": [
       "53851542"
      ]
     },
     "execution_count": 7,
     "metadata": {},
     "output_type": "execute_result"
    }
   ],
   "source": [
    "df.ups.count().compute()"
   ]
  },
  {
   "cell_type": "code",
   "execution_count": null,
   "metadata": {
    "collapsed": true
   },
   "outputs": [],
   "source": []
  }
 ],
 "metadata": {
  "kernelspec": {
   "display_name": "Python 3",
   "language": "python",
   "name": "python3"
  },
  "language_info": {
   "codemirror_mode": {
    "name": "ipython",
    "version": 3
   },
   "file_extension": ".py",
   "mimetype": "text/x-python",
   "name": "python",
   "nbconvert_exporter": "python",
   "pygments_lexer": "ipython3",
   "version": "3.4.5"
  }
 },
 "nbformat": 4,
 "nbformat_minor": 2
}
