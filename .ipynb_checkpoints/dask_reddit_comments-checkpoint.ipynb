{
 "cells": [
  {
   "cell_type": "code",
   "execution_count": 5,
   "metadata": {
    "collapsed": false
   },
   "outputs": [
    {
     "data": {
      "text/plain": [
       "{'archived': False,\n",
       " 'author': 'YoungModern',\n",
       " 'author_flair_css_class': None,\n",
       " 'author_flair_text': None,\n",
       " 'body': 'Most of us have some family members like this. *Most* of my family is like this. ',\n",
       " 'controversiality': 0,\n",
       " 'created_utc': '1420070400',\n",
       " 'distinguished': None,\n",
       " 'downs': 0,\n",
       " 'edited': False,\n",
       " 'gilded': 0,\n",
       " 'id': 'cnas8zv',\n",
       " 'link_id': 't3_2qyr1a',\n",
       " 'name': 't1_cnas8zv',\n",
       " 'parent_id': 't3_2qyr1a',\n",
       " 'retrieved_on': 1425124282,\n",
       " 'score': 14,\n",
       " 'score_hidden': False,\n",
       " 'subreddit': 'exmormon',\n",
       " 'subreddit_id': 't5_2r0gj',\n",
       " 'ups': 14}"
      ]
     },
     "execution_count": 5,
     "metadata": {},
     "output_type": "execute_result"
    }
   ],
   "source": [
    "from __future__ import division, print_function\n",
    "from bz2 import BZ2File\n",
    "import ujson\n",
    "\n",
    "with BZ2File('./RC_2015-01.bz2') as f:\n",
    "    line = f.readline()\n",
    "ujson.loads(line)"
   ]
  },
  {
   "cell_type": "code",
   "execution_count": 6,
   "metadata": {
    "collapsed": true
   },
   "outputs": [],
   "source": [
    "from pandas import Timestamp, NaT, DataFrame\n",
    "from toolz import dissoc\n",
    "\n",
    "\n",
    "def to_json(line):\n",
    "    \"\"\"Convert a line of json into a cleaned up dict.\"\"\"\n",
    "    blob = ujson.loads(line)\n",
    "    \n",
    "    # Convert timestamps into Timestamp objects\n",
    "    date = blob['created_utc']\n",
    "    blob['created_utc'] = Timestamp.utcfromtimestamp(int(date))\n",
    "    edited = blob['edited']\n",
    "    blob['edited'] = Timestamp.utcfromtimestamp(int(edited)) if edited else NaT\n",
    "    \n",
    "    # Convert deleted posts into `None`s (missing text data)\n",
    "    if blob['author'] == '[deleted]':\n",
    "        blob['author'] = None\n",
    "    if blob['body'] == '[deleted]':\n",
    "        blob['body'] = None\n",
    "        \n",
    "    # Remove 'id', and 'subreddit_id' as they're redundant\n",
    "    # Remove 'retrieved_on' as it's irrelevant\n",
    "    return dissoc(blob, 'id', 'subreddit_id', 'retrieved_on')\n",
    "\n",
    "\n",
    "columns = ['archived', 'author', 'author_flair_css_class', 'author_flair_text',\n",
    "           'body', 'controversiality', 'created_utc', 'distinguished', 'downs',\n",
    "           'edited', 'gilded', 'link_id', 'name', 'parent_id',\n",
    "           'removal_reason', 'score', 'score_hidden', 'subreddit', 'ups']\n",
    "\n",
    "\n",
    "def to_df(batch):\n",
    "    \"\"\"Convert a list of json strings into a dataframe\"\"\"\n",
    "    blobs = map(to_json, batch)\n",
    "    df = DataFrame.from_records(blobs, columns=columns)\n",
    "    return df.set_index('created_utc')"
   ]
  }
 ],
 "metadata": {
  "kernelspec": {
   "display_name": "Python 3",
   "language": "python",
   "name": "python3"
  },
  "language_info": {
   "codemirror_mode": {
    "name": "ipython",
    "version": 3
   },
   "file_extension": ".py",
   "mimetype": "text/x-python",
   "name": "python",
   "nbconvert_exporter": "python",
   "pygments_lexer": "ipython3",
   "version": "3.6.0"
  }
 },
 "nbformat": 4,
 "nbformat_minor": 2
}
