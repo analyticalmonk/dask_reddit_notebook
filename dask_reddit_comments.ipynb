{
 "cells": [
  {
   "cell_type": "code",
   "execution_count": 7,
   "metadata": {
    "collapsed": false
   },
   "outputs": [
    {
     "data": {
      "text/plain": [
       "{'archived': False,\n",
       " 'author': 'YoungModern',\n",
       " 'author_flair_css_class': None,\n",
       " 'author_flair_text': None,\n",
       " 'body': 'Most of us have some family members like this. *Most* of my family is like this. ',\n",
       " 'controversiality': 0,\n",
       " 'created_utc': '1420070400',\n",
       " 'distinguished': None,\n",
       " 'downs': 0,\n",
       " 'edited': False,\n",
       " 'gilded': 0,\n",
       " 'id': 'cnas8zv',\n",
       " 'link_id': 't3_2qyr1a',\n",
       " 'name': 't1_cnas8zv',\n",
       " 'parent_id': 't3_2qyr1a',\n",
       " 'retrieved_on': 1425124282,\n",
       " 'score': 14,\n",
       " 'score_hidden': False,\n",
       " 'subreddit': 'exmormon',\n",
       " 'subreddit_id': 't5_2r0gj',\n",
       " 'ups': 14}"
      ]
     },
     "execution_count": 7,
     "metadata": {},
     "output_type": "execute_result"
    }
   ],
   "source": [
    "from __future__ import division, print_function\n",
    "from bz2 import BZ2File\n",
    "import ujson\n",
    "\n",
    "with BZ2File('./RC_2015-01.bz2') as f:\n",
    "    line = f.readline()\n",
    "ujson.loads(line)"
   ]
  },
  {
   "cell_type": "code",
   "execution_count": 8,
   "metadata": {
    "collapsed": true
   },
   "outputs": [],
   "source": [
    "from pandas import Timestamp, NaT, DataFrame\n",
    "from toolz import dissoc\n",
    "\n",
    "\n",
    "def to_json(line):\n",
    "    \"\"\"Convert a line of json into a cleaned up dict.\"\"\"\n",
    "    blob = ujson.loads(line)\n",
    "    \n",
    "    # Convert timestamps into Timestamp objects\n",
    "    date = blob['created_utc']\n",
    "    blob['created_utc'] = Timestamp.utcfromtimestamp(int(date))\n",
    "    edited = blob['edited']\n",
    "    blob['edited'] = Timestamp.utcfromtimestamp(int(edited)) if edited else NaT\n",
    "    \n",
    "    # Convert deleted posts into `None`s (missing text data)\n",
    "    if blob['author'] == '[deleted]':\n",
    "        blob['author'] = None\n",
    "    if blob['body'] == '[deleted]':\n",
    "        blob['body'] = None\n",
    "        \n",
    "    # Remove 'id', and 'subreddit_id' as they're redundant\n",
    "    # Remove 'retrieved_on' as it's irrelevant\n",
    "    return dissoc(blob, 'id', 'subreddit_id', 'retrieved_on')\n",
    "\n",
    "\n",
    "columns = ['archived', 'author', 'author_flair_css_class', 'author_flair_text',\n",
    "           'body', 'controversiality', 'created_utc', 'distinguished', 'downs',\n",
    "           'edited', 'gilded', 'link_id', 'name', 'parent_id',\n",
    "           'removal_reason', 'score', 'score_hidden', 'subreddit', 'ups']\n",
    "\n",
    "\n",
    "def to_df(batch):\n",
    "    \"\"\"Convert a list of json strings into a dataframe\"\"\"\n",
    "    blobs = map(to_json, batch)\n",
    "    df = DataFrame.from_records(blobs, columns=columns)\n",
    "    return df.set_index('created_utc')"
   ]
  },
  {
   "cell_type": "code",
   "execution_count": null,
   "metadata": {
    "collapsed": false
   },
   "outputs": [
    {
     "name": "stderr",
     "output_type": "stream",
     "text": [
      "Exception ignored in: <bound method Castra.__exit__ of <castra.core.Castra object at 0x7f3c0d5eca90>>\n",
      "Traceback (most recent call last):\n",
      "  File \"/home/redcarpet/miniconda2/envs/blaze_explore/lib/python3.6/site-packages/castra/core.py\", line 344, in __exit__\n",
      "    self.flush()\n",
      "  File \"/home/redcarpet/miniconda2/envs/blaze_explore/lib/python3.6/site-packages/castra/core.py\", line 335, in flush\n",
      "    self.save_partitions()\n",
      "  File \"/home/redcarpet/miniconda2/envs/blaze_explore/lib/python3.6/site-packages/castra/core.py\", line 169, in save_partitions\n",
      "    with open(self.dirname('meta', 'minimum'), 'wb') as f:\n",
      "FileNotFoundError: [Errno 2] No such file or directory: 'reddit_data.castra/meta/minimum'\n",
      "/home/redcarpet/miniconda2/envs/blaze_explore/lib/python3.6/site-packages/castra/core.py:492: FutureWarning: \n",
      "Setting NaNs in `categories` is deprecated and will be removed in a future version of pandas.\n",
      "  new_columns[col] = pd.Categorical(df[col].values, new_categories[col]).codes\n",
      "/home/redcarpet/miniconda2/envs/blaze_explore/lib/python3.6/site-packages/castra/core.py:251: FutureWarning: pandas.core.datetools.to_offset is deprecated. Please use pandas.tseries.frequencies.to_offset instead.\n",
      "  freq = pd.datetools.to_offset(freq)\n",
      "/home/redcarpet/miniconda2/envs/blaze_explore/lib/python3.6/site-packages/castra/core.py:492: FutureWarning: \n",
      "Setting NaNs in `categories` is deprecated and will be removed in a future version of pandas.\n",
      "  new_columns[col] = pd.Categorical(df[col].values, new_categories[col]).codes\n"
     ]
    }
   ],
   "source": [
    " from castra import Castra\n",
    "from toolz import peek, partition_all\n",
    "\n",
    "categories = ['distinguished', 'subreddit', 'removal_reason']\n",
    "\n",
    "with BZ2File('RC_2015-01.bz2') as f:\n",
    "    batches = partition_all(200000, f)\n",
    "    df, frames = peek(map(to_df, batches))\n",
    "    castra = Castra('reddit_data.castra', template=df, categories=categories)\n",
    "    castra.extend_sequence(frames, freq='3h')"
   ]
  },
  {
   "cell_type": "code",
   "execution_count": null,
   "metadata": {
    "collapsed": true
   },
   "outputs": [],
   "source": [
    "import dask.dataframe as dd\n",
    "from dask.diagnostics import ProgressBar\n",
    "\n",
    "# Start a progress bar for all computations\n",
    "pbar = Progressbar()\n",
    "pbar.register()\n",
    "\n",
    "# Load data into a dask dataframe\n",
    "df = dd.from_castra('reddit_data.castra/')\n",
    "df.head(3)"
   ]
  }
 ],
 "metadata": {
  "kernelspec": {
   "display_name": "Python 3",
   "language": "python",
   "name": "python3"
  },
  "language_info": {
   "codemirror_mode": {
    "name": "ipython",
    "version": 3
   },
   "file_extension": ".py",
   "mimetype": "text/x-python",
   "name": "python",
   "nbconvert_exporter": "python",
   "pygments_lexer": "ipython3",
   "version": "3.6.0"
  }
 },
 "nbformat": 4,
 "nbformat_minor": 2
}
